{
 "cells": [
  {
   "cell_type": "markdown",
   "metadata": {},
   "source": [
    "# Predicting Customer Churn in Telecommunication Operators\n",
    "Customer turnover refers to a decision made by the customer on the term of business relationship. Customer loyalty and customer turnover always add up to 100%. If a company has a 60% loyalty rate, then customer loss taxes are 40%. According to the 80/20 customer profitability rule, 20% of customers are generating 80% of revenue. Therefore, it is very important to predict the users who are likely to abandon the business relationship and the factors that affect how the customer's decisions.<br><br>\n",
    "In this project, I predicted Customer Churn at a Telecommunications Operator using pyspark and frameworks (Pandas, Numpy, scipy and Scikit-Learn)."
   ]
  },
  {
   "cell_type": "code",
   "execution_count": 78,
   "metadata": {},
   "outputs": [],
   "source": [
    "# Importing libraries and frameworks\n",
    "from pyspark.sql.functions import col,sum\n",
    "from scipy.stats import skew, kurtosis\n",
    "\n",
    "import pandas as pd\n",
    "import numpy as np\n",
    "import matplotlib.pyplot as plt\n",
    "import seaborn as sns"
   ]
  },
  {
   "cell_type": "markdown",
   "metadata": {},
   "source": [
    "## Importing dataset"
   ]
  },
  {
   "cell_type": "code",
   "execution_count": 2,
   "metadata": {},
   "outputs": [],
   "source": [
    "df_train = spark.read.csv(\"data/projeto4_telecom_treino.csv\", header=True)\n",
    "df_test = spark.read.csv(\"data/projeto4_telecom_teste.csv\", header=True)"
   ]
  },
  {
   "cell_type": "markdown",
   "metadata": {},
   "source": [
    "## Exploratory Analysis"
   ]
  },
  {
   "cell_type": "code",
   "execution_count": 10,
   "metadata": {},
   "outputs": [
    {
     "name": "stdout",
     "output_type": "stream",
     "text": [
      "(3333, 21)\n"
     ]
    },
    {
     "data": {
      "text/plain": [
       "[Row(_c0='1', state='KS', account_length='128', area_code='area_code_415', international_plan='no', voice_mail_plan='yes', number_vmail_messages='25', total_day_minutes='265.1', total_day_calls='110', total_day_charge='45.07', total_eve_minutes='197.4', total_eve_calls='99', total_eve_charge='16.78', total_night_minutes='244.7', total_night_calls='91', total_night_charge='11.01', total_intl_minutes='10', total_intl_calls='3', total_intl_charge='2.7', number_customer_service_calls='1', churn='no'),\n",
       " Row(_c0='2', state='OH', account_length='107', area_code='area_code_415', international_plan='no', voice_mail_plan='yes', number_vmail_messages='26', total_day_minutes='161.6', total_day_calls='123', total_day_charge='27.47', total_eve_minutes='195.5', total_eve_calls='103', total_eve_charge='16.62', total_night_minutes='254.4', total_night_calls='103', total_night_charge='11.45', total_intl_minutes='13.7', total_intl_calls='3', total_intl_charge='3.7', number_customer_service_calls='1', churn='no'),\n",
       " Row(_c0='3', state='NJ', account_length='137', area_code='area_code_415', international_plan='no', voice_mail_plan='no', number_vmail_messages='0', total_day_minutes='243.4', total_day_calls='114', total_day_charge='41.38', total_eve_minutes='121.2', total_eve_calls='110', total_eve_charge='10.3', total_night_minutes='162.6', total_night_calls='104', total_night_charge='7.32', total_intl_minutes='12.2', total_intl_calls='5', total_intl_charge='3.29', number_customer_service_calls='0', churn='no'),\n",
       " Row(_c0='4', state='OH', account_length='84', area_code='area_code_408', international_plan='yes', voice_mail_plan='no', number_vmail_messages='0', total_day_minutes='299.4', total_day_calls='71', total_day_charge='50.9', total_eve_minutes='61.9', total_eve_calls='88', total_eve_charge='5.26', total_night_minutes='196.9', total_night_calls='89', total_night_charge='8.86', total_intl_minutes='6.6', total_intl_calls='7', total_intl_charge='1.78', number_customer_service_calls='2', churn='no'),\n",
       " Row(_c0='5', state='OK', account_length='75', area_code='area_code_415', international_plan='yes', voice_mail_plan='no', number_vmail_messages='0', total_day_minutes='166.7', total_day_calls='113', total_day_charge='28.34', total_eve_minutes='148.3', total_eve_calls='122', total_eve_charge='12.61', total_night_minutes='186.9', total_night_calls='121', total_night_charge='8.41', total_intl_minutes='10.1', total_intl_calls='3', total_intl_charge='2.73', number_customer_service_calls='3', churn='no')]"
      ]
     },
     "metadata": {},
     "output_type": "display_data"
    }
   ],
   "source": [
    "# Checking train data\n",
    "display(df_train.head(5))"
   ]
  },
  {
   "cell_type": "code",
   "execution_count": 11,
   "metadata": {},
   "outputs": [
    {
     "name": "stdout",
     "output_type": "stream",
     "text": [
      "(3333, 21)\n",
      "(1667, 21)\n"
     ]
    }
   ],
   "source": [
    "# Ckecking size of datasets\n",
    "print((df_train.count(), len(df_train.columns)))\n",
    "print((df_test.count(), len(df_train.columns)))"
   ]
  },
  {
   "cell_type": "code",
   "execution_count": 24,
   "metadata": {},
   "outputs": [
    {
     "name": "stdout",
     "output_type": "stream",
     "text": [
      "+---+-----+--------------+---------+------------------+---------------+---------------------+-----------------+---------------+----------------+-----------------+---------------+----------------+-------------------+-----------------+------------------+------------------+----------------+-----------------+-----------------------------+-----+\n",
      "|_c0|state|account_length|area_code|international_plan|voice_mail_plan|number_vmail_messages|total_day_minutes|total_day_calls|total_day_charge|total_eve_minutes|total_eve_calls|total_eve_charge|total_night_minutes|total_night_calls|total_night_charge|total_intl_minutes|total_intl_calls|total_intl_charge|number_customer_service_calls|churn|\n",
      "+---+-----+--------------+---------+------------------+---------------+---------------------+-----------------+---------------+----------------+-----------------+---------------+----------------+-------------------+-----------------+------------------+------------------+----------------+-----------------+-----------------------------+-----+\n",
      "|  0|    0|             0|        0|                 0|              0|                    0|                0|              0|               0|                0|              0|               0|                  0|                0|                 0|                 0|               0|                0|                            0|    0|\n",
      "+---+-----+--------------+---------+------------------+---------------+---------------------+-----------------+---------------+----------------+-----------------+---------------+----------------+-------------------+-----------------+------------------+------------------+----------------+-----------------+-----------------------------+-----+\n",
      "\n",
      "+---+-----+--------------+---------+------------------+---------------+---------------------+-----------------+---------------+----------------+-----------------+---------------+----------------+-------------------+-----------------+------------------+------------------+----------------+-----------------+-----------------------------+-----+\n",
      "|_c0|state|account_length|area_code|international_plan|voice_mail_plan|number_vmail_messages|total_day_minutes|total_day_calls|total_day_charge|total_eve_minutes|total_eve_calls|total_eve_charge|total_night_minutes|total_night_calls|total_night_charge|total_intl_minutes|total_intl_calls|total_intl_charge|number_customer_service_calls|churn|\n",
      "+---+-----+--------------+---------+------------------+---------------+---------------------+-----------------+---------------+----------------+-----------------+---------------+----------------+-------------------+-----------------+------------------+------------------+----------------+-----------------+-----------------------------+-----+\n",
      "|  0|    0|             0|        0|                 0|              0|                    0|                0|              0|               0|                0|              0|               0|                  0|                0|                 0|                 0|               0|                0|                            0|    0|\n",
      "+---+-----+--------------+---------+------------------+---------------+---------------------+-----------------+---------------+----------------+-----------------+---------------+----------------+-------------------+-----------------+------------------+------------------+----------------+-----------------+-----------------------------+-----+\n",
      "\n"
     ]
    }
   ],
   "source": [
    "# Checking for missing values on train and test datasets\n",
    "df_train.select(*(sum(col(c).isNull().cast(\"int\")).alias(c) for c in df_train.columns)).show()\n",
    "df_test.select(*(sum(col(c).isNull().cast(\"int\")).alias(c) for c in df_train.columns)).show()"
   ]
  },
  {
   "cell_type": "code",
   "execution_count": 25,
   "metadata": {},
   "outputs": [
    {
     "data": {
      "text/plain": [
       "['_c0',\n",
       " 'state',\n",
       " 'account_length',\n",
       " 'area_code',\n",
       " 'international_plan',\n",
       " 'voice_mail_plan',\n",
       " 'number_vmail_messages',\n",
       " 'total_day_minutes',\n",
       " 'total_day_calls',\n",
       " 'total_day_charge',\n",
       " 'total_eve_minutes',\n",
       " 'total_eve_calls',\n",
       " 'total_eve_charge',\n",
       " 'total_night_minutes',\n",
       " 'total_night_calls',\n",
       " 'total_night_charge',\n",
       " 'total_intl_minutes',\n",
       " 'total_intl_calls',\n",
       " 'total_intl_charge',\n",
       " 'number_customer_service_calls',\n",
       " 'churn']"
      ]
     },
     "execution_count": 25,
     "metadata": {},
     "output_type": "execute_result"
    }
   ],
   "source": [
    "df_train.columns"
   ]
  },
  {
   "cell_type": "code",
   "execution_count": 3,
   "metadata": {},
   "outputs": [
    {
     "data": {
      "text/html": [
       "<div>\n",
       "<style scoped>\n",
       "    .dataframe tbody tr th:only-of-type {\n",
       "        vertical-align: middle;\n",
       "    }\n",
       "\n",
       "    .dataframe tbody tr th {\n",
       "        vertical-align: top;\n",
       "    }\n",
       "\n",
       "    .dataframe thead th {\n",
       "        text-align: right;\n",
       "    }\n",
       "</style>\n",
       "<table border=\"1\" class=\"dataframe\">\n",
       "  <thead>\n",
       "    <tr style=\"text-align: right;\">\n",
       "      <th></th>\n",
       "      <th>summary</th>\n",
       "      <th>account_length</th>\n",
       "      <th>number_vmail_messages</th>\n",
       "      <th>total_day_minutes</th>\n",
       "      <th>total_day_calls</th>\n",
       "      <th>total_day_charge</th>\n",
       "      <th>total_eve_minutes</th>\n",
       "      <th>total_eve_calls</th>\n",
       "      <th>total_eve_charge</th>\n",
       "      <th>total_night_minutes</th>\n",
       "      <th>total_night_calls</th>\n",
       "      <th>total_night_charge</th>\n",
       "      <th>total_intl_minutes</th>\n",
       "      <th>total_intl_calls</th>\n",
       "      <th>total_intl_charge</th>\n",
       "      <th>number_customer_service_calls</th>\n",
       "    </tr>\n",
       "  </thead>\n",
       "  <tbody>\n",
       "    <tr>\n",
       "      <th>0</th>\n",
       "      <td>count</td>\n",
       "      <td>3333.00</td>\n",
       "      <td>3333.00</td>\n",
       "      <td>3333.00</td>\n",
       "      <td>3333.00</td>\n",
       "      <td>3333.00</td>\n",
       "      <td>3333.00</td>\n",
       "      <td>3333.00</td>\n",
       "      <td>3333.00</td>\n",
       "      <td>3333.00</td>\n",
       "      <td>3333.00</td>\n",
       "      <td>3333.00</td>\n",
       "      <td>3333.00</td>\n",
       "      <td>3333.00</td>\n",
       "      <td>3333.00</td>\n",
       "      <td>3333.00</td>\n",
       "    </tr>\n",
       "    <tr>\n",
       "      <th>1</th>\n",
       "      <td>mean</td>\n",
       "      <td>101.06</td>\n",
       "      <td>8.10</td>\n",
       "      <td>179.78</td>\n",
       "      <td>100.44</td>\n",
       "      <td>30.56</td>\n",
       "      <td>200.98</td>\n",
       "      <td>100.11</td>\n",
       "      <td>17.08</td>\n",
       "      <td>200.87</td>\n",
       "      <td>100.11</td>\n",
       "      <td>9.04</td>\n",
       "      <td>10.24</td>\n",
       "      <td>4.48</td>\n",
       "      <td>2.76</td>\n",
       "      <td>1.56</td>\n",
       "    </tr>\n",
       "    <tr>\n",
       "      <th>2</th>\n",
       "      <td>stddev</td>\n",
       "      <td>39.82</td>\n",
       "      <td>13.69</td>\n",
       "      <td>54.47</td>\n",
       "      <td>20.07</td>\n",
       "      <td>9.26</td>\n",
       "      <td>50.71</td>\n",
       "      <td>19.92</td>\n",
       "      <td>4.31</td>\n",
       "      <td>50.57</td>\n",
       "      <td>19.57</td>\n",
       "      <td>2.28</td>\n",
       "      <td>2.79</td>\n",
       "      <td>2.46</td>\n",
       "      <td>0.75</td>\n",
       "      <td>1.32</td>\n",
       "    </tr>\n",
       "    <tr>\n",
       "      <th>3</th>\n",
       "      <td>min</td>\n",
       "      <td>1.00</td>\n",
       "      <td>0.00</td>\n",
       "      <td>0.00</td>\n",
       "      <td>0.00</td>\n",
       "      <td>0.00</td>\n",
       "      <td>0.00</td>\n",
       "      <td>0.00</td>\n",
       "      <td>0.00</td>\n",
       "      <td>100.30</td>\n",
       "      <td>100.00</td>\n",
       "      <td>1.04</td>\n",
       "      <td>0.00</td>\n",
       "      <td>0.00</td>\n",
       "      <td>0.00</td>\n",
       "      <td>0.00</td>\n",
       "    </tr>\n",
       "    <tr>\n",
       "      <th>4</th>\n",
       "      <td>max</td>\n",
       "      <td>99.00</td>\n",
       "      <td>9.00</td>\n",
       "      <td>99.90</td>\n",
       "      <td>99.00</td>\n",
       "      <td>9.93</td>\n",
       "      <td>99.50</td>\n",
       "      <td>99.00</td>\n",
       "      <td>9.95</td>\n",
       "      <td>99.30</td>\n",
       "      <td>99.00</td>\n",
       "      <td>9.99</td>\n",
       "      <td>9.90</td>\n",
       "      <td>9.00</td>\n",
       "      <td>5.40</td>\n",
       "      <td>9.00</td>\n",
       "    </tr>\n",
       "  </tbody>\n",
       "</table>\n",
       "</div>"
      ],
      "text/plain": [
       "  summary  account_length  number_vmail_messages  total_day_minutes  \\\n",
       "0   count         3333.00                3333.00            3333.00   \n",
       "1    mean          101.06                   8.10             179.78   \n",
       "2  stddev           39.82                  13.69              54.47   \n",
       "3     min            1.00                   0.00               0.00   \n",
       "4     max           99.00                   9.00              99.90   \n",
       "\n",
       "   total_day_calls  total_day_charge  total_eve_minutes  total_eve_calls  \\\n",
       "0          3333.00           3333.00            3333.00          3333.00   \n",
       "1           100.44             30.56             200.98           100.11   \n",
       "2            20.07              9.26              50.71            19.92   \n",
       "3             0.00              0.00               0.00             0.00   \n",
       "4            99.00              9.93              99.50            99.00   \n",
       "\n",
       "   total_eve_charge  total_night_minutes  total_night_calls  \\\n",
       "0           3333.00              3333.00            3333.00   \n",
       "1             17.08               200.87             100.11   \n",
       "2              4.31                50.57              19.57   \n",
       "3              0.00               100.30             100.00   \n",
       "4              9.95                99.30              99.00   \n",
       "\n",
       "   total_night_charge  total_intl_minutes  total_intl_calls  \\\n",
       "0             3333.00             3333.00           3333.00   \n",
       "1                9.04               10.24              4.48   \n",
       "2                2.28                2.79              2.46   \n",
       "3                1.04                0.00              0.00   \n",
       "4                9.99                9.90              9.00   \n",
       "\n",
       "   total_intl_charge  number_customer_service_calls  \n",
       "0            3333.00                        3333.00  \n",
       "1               2.76                           1.56  \n",
       "2               0.75                           1.32  \n",
       "3               0.00                           0.00  \n",
       "4               5.40                           9.00  "
      ]
     },
     "metadata": {},
     "output_type": "display_data"
    }
   ],
   "source": [
    "# Compute numerical data summary statistics\n",
    "df_train_num = df_train.select(['account_length', 'number_vmail_messages', 'total_day_minutes',\n",
    "                        'total_day_calls', 'total_day_charge', 'total_eve_minutes', \n",
    "                        'total_eve_calls', 'total_eve_charge', 'total_night_minutes', \n",
    "                        'total_night_calls', 'total_night_charge', 'total_intl_minutes', \n",
    "                        'total_intl_calls', 'total_intl_charge', 'number_customer_service_calls'])\n",
    "\n",
    "summary_df = df_train_num.describe().toPandas()\n",
    "\n",
    "s = ['account_length', 'number_vmail_messages', 'total_day_minutes',\n",
    "                        'total_day_calls', 'total_day_charge', 'total_eve_minutes', \n",
    "                        'total_eve_calls', 'total_eve_charge', 'total_night_minutes', \n",
    "                        'total_night_calls', 'total_night_charge', 'total_intl_minutes', \n",
    "                        'total_intl_calls', 'total_intl_charge', 'number_customer_service_calls']\n",
    "\n",
    "\n",
    "df = pd.DataFrame([pd.to_numeric(summary_df[col]) for col in s]).T.round(2)\n",
    "idx = 0\n",
    "df.insert(loc=idx, column='summary', value=summary_df.summary.values)\n",
    "\n",
    "display(df)"
   ]
  },
  {
   "cell_type": "code",
   "execution_count": 54,
   "metadata": {},
   "outputs": [],
   "source": [
    "# converting columns to numeric and calculating median\n",
    "for col_name in df_train_num.columns:\n",
    "    df_train_num = df_train_num.withColumn(col_name, df_train_num[col_name].cast('float'))\n",
    "    \n",
    "median = [df_train_num.approxQuantile(col, [0.5], 0.0)[0] for col in df_train_num.columns]\n",
    "first_quartile = [df_train_num.approxQuantile(col, [0.25], 0.0)[0] for col in df_train_num.columns]\n",
    "third_quartile = [df_train_num.approxQuantile(col, [0.75], 0.0)[0] for col in df_train_num.columns]\n",
    "#med = pd.Series({'median': median})"
   ]
  },
  {
   "cell_type": "code",
   "execution_count": 79,
   "metadata": {},
   "outputs": [],
   "source": [
    "# Getting mean absolute deviation\n",
    "def mad(col, axis=None):\n",
    "    data = [int(row[col]) for row in df_train_num.select(col).collect()]\n",
    "    return np.mean(np.absolute(data - np.mean(data, axis)), axis)\n",
    "\n",
    "mad = [mad(col) for col in df_train_num.columns]\n",
    "\n",
    "# Getting skewness\n",
    "skew_list = [skew([int(row[col]) for row in df_train_num.select(col).collect()])\n",
    "            for col in df_train_num.columns]\n",
    "\n",
    "# Getting kurtosis\n",
    "kurt = [kurtosis([int(row[col]) for row in df_train_num.select(col).collect()])\n",
    "            for col in df_train_num.columns]"
   ]
  },
  {
   "cell_type": "code",
   "execution_count": null,
   "metadata": {},
   "outputs": [],
   "source": []
  },
  {
   "cell_type": "code",
   "execution_count": null,
   "metadata": {},
   "outputs": [],
   "source": []
  }
 ],
 "metadata": {
  "kernelspec": {
   "display_name": "Python 3",
   "language": "python",
   "name": "python3"
  },
  "language_info": {
   "codemirror_mode": {
    "name": "ipython",
    "version": 3
   },
   "file_extension": ".py",
   "mimetype": "text/x-python",
   "name": "python",
   "nbconvert_exporter": "python",
   "pygments_lexer": "ipython3",
   "version": "3.7.3"
  }
 },
 "nbformat": 4,
 "nbformat_minor": 2
}
