{
 "cells": [
  {
   "cell_type": "markdown",
   "metadata": {},
   "source": [
    "# Predicting Customer Churn in Telecommunication Operators\n",
    "Customer turnover refers to a decision made by the customer on the term of business relationship. Customer loyalty and customer turnover always add up to 100%. If a company has a 60% loyalty rate, then customer loss taxes are 40%. According to the 80/20 customer profitability rule, 20% of customers are generating 80% of revenue. Therefore, it is very important to predict the users who are likely to abandon the business relationship and the factors that affect how the customer's decisions.<br><br>\n",
    "In this project, I predicted Customer Churn at a Telecommunications Operator using pyspark and frameworks (Pandas, Numpy, scipy and Scikit-Learn)."
   ]
  },
  {
   "cell_type": "code",
   "execution_count": 12,
   "metadata": {},
   "outputs": [],
   "source": [
    "# Importing libraries and frameworks\n",
    "from pyspark.sql.functions import col,sum\n",
    "\n",
    "import pandas as pd\n",
    "import numpy as np\n",
    "import matplotlib.pyplot as plt\n",
    "import seaborn as sns"
   ]
  },
  {
   "cell_type": "markdown",
   "metadata": {},
   "source": [
    "## Importing dataset"
   ]
  },
  {
   "cell_type": "code",
   "execution_count": 9,
   "metadata": {},
   "outputs": [],
   "source": [
    "df_train = spark.read.csv(\"data/projeto4_telecom_treino.csv\", header=True)\n",
    "df_test = spark.read.csv(\"data/projeto4_telecom_teste.csv\", header=True)"
   ]
  },
  {
   "cell_type": "markdown",
   "metadata": {},
   "source": [
    "## Exploratory Analysis"
   ]
  },
  {
   "cell_type": "code",
   "execution_count": 10,
   "metadata": {},
   "outputs": [
    {
     "name": "stdout",
     "output_type": "stream",
     "text": [
      "(3333, 21)\n"
     ]
    },
    {
     "data": {
      "text/plain": [
       "[Row(_c0='1', state='KS', account_length='128', area_code='area_code_415', international_plan='no', voice_mail_plan='yes', number_vmail_messages='25', total_day_minutes='265.1', total_day_calls='110', total_day_charge='45.07', total_eve_minutes='197.4', total_eve_calls='99', total_eve_charge='16.78', total_night_minutes='244.7', total_night_calls='91', total_night_charge='11.01', total_intl_minutes='10', total_intl_calls='3', total_intl_charge='2.7', number_customer_service_calls='1', churn='no'),\n",
       " Row(_c0='2', state='OH', account_length='107', area_code='area_code_415', international_plan='no', voice_mail_plan='yes', number_vmail_messages='26', total_day_minutes='161.6', total_day_calls='123', total_day_charge='27.47', total_eve_minutes='195.5', total_eve_calls='103', total_eve_charge='16.62', total_night_minutes='254.4', total_night_calls='103', total_night_charge='11.45', total_intl_minutes='13.7', total_intl_calls='3', total_intl_charge='3.7', number_customer_service_calls='1', churn='no'),\n",
       " Row(_c0='3', state='NJ', account_length='137', area_code='area_code_415', international_plan='no', voice_mail_plan='no', number_vmail_messages='0', total_day_minutes='243.4', total_day_calls='114', total_day_charge='41.38', total_eve_minutes='121.2', total_eve_calls='110', total_eve_charge='10.3', total_night_minutes='162.6', total_night_calls='104', total_night_charge='7.32', total_intl_minutes='12.2', total_intl_calls='5', total_intl_charge='3.29', number_customer_service_calls='0', churn='no'),\n",
       " Row(_c0='4', state='OH', account_length='84', area_code='area_code_408', international_plan='yes', voice_mail_plan='no', number_vmail_messages='0', total_day_minutes='299.4', total_day_calls='71', total_day_charge='50.9', total_eve_minutes='61.9', total_eve_calls='88', total_eve_charge='5.26', total_night_minutes='196.9', total_night_calls='89', total_night_charge='8.86', total_intl_minutes='6.6', total_intl_calls='7', total_intl_charge='1.78', number_customer_service_calls='2', churn='no'),\n",
       " Row(_c0='5', state='OK', account_length='75', area_code='area_code_415', international_plan='yes', voice_mail_plan='no', number_vmail_messages='0', total_day_minutes='166.7', total_day_calls='113', total_day_charge='28.34', total_eve_minutes='148.3', total_eve_calls='122', total_eve_charge='12.61', total_night_minutes='186.9', total_night_calls='121', total_night_charge='8.41', total_intl_minutes='10.1', total_intl_calls='3', total_intl_charge='2.73', number_customer_service_calls='3', churn='no')]"
      ]
     },
     "metadata": {},
     "output_type": "display_data"
    }
   ],
   "source": [
    "# Checking train data\n",
    "display(df_train.head(5))"
   ]
  },
  {
   "cell_type": "code",
   "execution_count": 11,
   "metadata": {},
   "outputs": [
    {
     "name": "stdout",
     "output_type": "stream",
     "text": [
      "(3333, 21)\n",
      "(1667, 21)\n"
     ]
    }
   ],
   "source": [
    "# Ckecking size of datasets\n",
    "print((df_train.count(), len(df_train.columns)))\n",
    "print((df_test.count(), len(df_train.columns)))"
   ]
  },
  {
   "cell_type": "code",
   "execution_count": 24,
   "metadata": {},
   "outputs": [
    {
     "name": "stdout",
     "output_type": "stream",
     "text": [
      "+---+-----+--------------+---------+------------------+---------------+---------------------+-----------------+---------------+----------------+-----------------+---------------+----------------+-------------------+-----------------+------------------+------------------+----------------+-----------------+-----------------------------+-----+\n",
      "|_c0|state|account_length|area_code|international_plan|voice_mail_plan|number_vmail_messages|total_day_minutes|total_day_calls|total_day_charge|total_eve_minutes|total_eve_calls|total_eve_charge|total_night_minutes|total_night_calls|total_night_charge|total_intl_minutes|total_intl_calls|total_intl_charge|number_customer_service_calls|churn|\n",
      "+---+-----+--------------+---------+------------------+---------------+---------------------+-----------------+---------------+----------------+-----------------+---------------+----------------+-------------------+-----------------+------------------+------------------+----------------+-----------------+-----------------------------+-----+\n",
      "|  0|    0|             0|        0|                 0|              0|                    0|                0|              0|               0|                0|              0|               0|                  0|                0|                 0|                 0|               0|                0|                            0|    0|\n",
      "+---+-----+--------------+---------+------------------+---------------+---------------------+-----------------+---------------+----------------+-----------------+---------------+----------------+-------------------+-----------------+------------------+------------------+----------------+-----------------+-----------------------------+-----+\n",
      "\n",
      "+---+-----+--------------+---------+------------------+---------------+---------------------+-----------------+---------------+----------------+-----------------+---------------+----------------+-------------------+-----------------+------------------+------------------+----------------+-----------------+-----------------------------+-----+\n",
      "|_c0|state|account_length|area_code|international_plan|voice_mail_plan|number_vmail_messages|total_day_minutes|total_day_calls|total_day_charge|total_eve_minutes|total_eve_calls|total_eve_charge|total_night_minutes|total_night_calls|total_night_charge|total_intl_minutes|total_intl_calls|total_intl_charge|number_customer_service_calls|churn|\n",
      "+---+-----+--------------+---------+------------------+---------------+---------------------+-----------------+---------------+----------------+-----------------+---------------+----------------+-------------------+-----------------+------------------+------------------+----------------+-----------------+-----------------------------+-----+\n",
      "|  0|    0|             0|        0|                 0|              0|                    0|                0|              0|               0|                0|              0|               0|                  0|                0|                 0|                 0|               0|                0|                            0|    0|\n",
      "+---+-----+--------------+---------+------------------+---------------+---------------------+-----------------+---------------+----------------+-----------------+---------------+----------------+-------------------+-----------------+------------------+------------------+----------------+-----------------+-----------------------------+-----+\n",
      "\n"
     ]
    }
   ],
   "source": [
    "# Checking for missing values on train and test datasets\n",
    "df_train.select(*(sum(col(c).isNull().cast(\"int\")).alias(c) for c in df_train.columns)).show()\n",
    "df_test.select(*(sum(col(c).isNull().cast(\"int\")).alias(c) for c in df_train.columns)).show()"
   ]
  },
  {
   "cell_type": "code",
   "execution_count": 20,
   "metadata": {},
   "outputs": [
    {
     "ename": "SyntaxError",
     "evalue": "invalid syntax (<ipython-input-20-39654d3ee26d>, line 1)",
     "output_type": "error",
     "traceback": [
      "\u001b[0;36m  File \u001b[0;32m\"<ipython-input-20-39654d3ee26d>\"\u001b[0;36m, line \u001b[0;32m1\u001b[0m\n\u001b[0;31m    sum(col(c).isNull().cast(\"int\")).alias(c) for c in df_train.columns\u001b[0m\n\u001b[0m                                                ^\u001b[0m\n\u001b[0;31mSyntaxError\u001b[0m\u001b[0;31m:\u001b[0m invalid syntax\n"
     ]
    }
   ],
   "source": [
    "sum(col(c).isNull().cast(\"int\")).alias(c) for c in df_train.columns)"
   ]
  },
  {
   "cell_type": "code",
   "execution_count": null,
   "metadata": {},
   "outputs": [],
   "source": []
  }
 ],
 "metadata": {
  "kernelspec": {
   "display_name": "Python 3",
   "language": "python",
   "name": "python3"
  },
  "language_info": {
   "codemirror_mode": {
    "name": "ipython",
    "version": 3
   },
   "file_extension": ".py",
   "mimetype": "text/x-python",
   "name": "python",
   "nbconvert_exporter": "python",
   "pygments_lexer": "ipython3",
   "version": "3.7.3"
  }
 },
 "nbformat": 4,
 "nbformat_minor": 2
}
