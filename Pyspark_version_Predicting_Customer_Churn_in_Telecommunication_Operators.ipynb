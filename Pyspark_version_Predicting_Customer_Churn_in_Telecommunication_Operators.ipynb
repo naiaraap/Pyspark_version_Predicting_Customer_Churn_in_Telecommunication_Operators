{
 "cells": [
  {
   "cell_type": "markdown",
   "metadata": {},
   "source": [
    "# Predicting Customer Churn in Telecommunication Operators\n",
    "Customer turnover refers to a decision made by the customer on the term of business relationship. Customer loyalty and customer turnover always add up to 100%. If a company has a 60% loyalty rate, then customer loss taxes are 40%. According to the 80/20 customer profitability rule, 20% of customers are generating 80% of revenue. Therefore, it is very important to predict the users who are likely to abandon the business relationship and the factors that affect how the customer's decisions.<br><br>\n",
    "In this project, I predicted Customer Churn at a Telecommunications Operator using pyspark and frameworks (Pandas, Numpy, scipy and Scikit-Learn)."
   ]
  },
  {
   "cell_type": "code",
   "execution_count": 12,
   "metadata": {},
   "outputs": [],
   "source": [
    "# Importing libraries and frameworks\n",
    "from pyspark.sql.functions import col,sum\n",
    "\n",
    "import pandas as pd\n",
    "import numpy as np\n",
    "import matplotlib.pyplot as plt\n",
    "import seaborn as sns"
   ]
  },
  {
   "cell_type": "markdown",
   "metadata": {},
   "source": [
    "## Importing dataset"
   ]
  },
  {
   "cell_type": "code",
   "execution_count": 9,
   "metadata": {},
   "outputs": [],
   "source": [
    "df_train = spark.read.csv(\"data/projeto4_telecom_treino.csv\", header=True)\n",
    "df_test = spark.read.csv(\"data/projeto4_telecom_teste.csv\", header=True)"
   ]
  },
  {
   "cell_type": "markdown",
   "metadata": {},
   "source": [
    "## Exploratory Analysis"
   ]
  },
  {
   "cell_type": "code",
   "execution_count": 10,
   "metadata": {},
   "outputs": [
    {
     "name": "stdout",
     "output_type": "stream",
     "text": [
      "(3333, 21)\n"
     ]
    },
    {
     "data": {
      "text/plain": [
       "[Row(_c0='1', state='KS', account_length='128', area_code='area_code_415', international_plan='no', voice_mail_plan='yes', number_vmail_messages='25', total_day_minutes='265.1', total_day_calls='110', total_day_charge='45.07', total_eve_minutes='197.4', total_eve_calls='99', total_eve_charge='16.78', total_night_minutes='244.7', total_night_calls='91', total_night_charge='11.01', total_intl_minutes='10', total_intl_calls='3', total_intl_charge='2.7', number_customer_service_calls='1', churn='no'),\n",
       " Row(_c0='2', state='OH', account_length='107', area_code='area_code_415', international_plan='no', voice_mail_plan='yes', number_vmail_messages='26', total_day_minutes='161.6', total_day_calls='123', total_day_charge='27.47', total_eve_minutes='195.5', total_eve_calls='103', total_eve_charge='16.62', total_night_minutes='254.4', total_night_calls='103', total_night_charge='11.45', total_intl_minutes='13.7', total_intl_calls='3', total_intl_charge='3.7', number_customer_service_calls='1', churn='no'),\n",
       " Row(_c0='3', state='NJ', account_length='137', area_code='area_code_415', international_plan='no', voice_mail_plan='no', number_vmail_messages='0', total_day_minutes='243.4', total_day_calls='114', total_day_charge='41.38', total_eve_minutes='121.2', total_eve_calls='110', total_eve_charge='10.3', total_night_minutes='162.6', total_night_calls='104', total_night_charge='7.32', total_intl_minutes='12.2', total_intl_calls='5', total_intl_charge='3.29', number_customer_service_calls='0', churn='no'),\n",
       " Row(_c0='4', state='OH', account_length='84', area_code='area_code_408', international_plan='yes', voice_mail_plan='no', number_vmail_messages='0', total_day_minutes='299.4', total_day_calls='71', total_day_charge='50.9', total_eve_minutes='61.9', total_eve_calls='88', total_eve_charge='5.26', total_night_minutes='196.9', total_night_calls='89', total_night_charge='8.86', total_intl_minutes='6.6', total_intl_calls='7', total_intl_charge='1.78', number_customer_service_calls='2', churn='no'),\n",
       " Row(_c0='5', state='OK', account_length='75', area_code='area_code_415', international_plan='yes', voice_mail_plan='no', number_vmail_messages='0', total_day_minutes='166.7', total_day_calls='113', total_day_charge='28.34', total_eve_minutes='148.3', total_eve_calls='122', total_eve_charge='12.61', total_night_minutes='186.9', total_night_calls='121', total_night_charge='8.41', total_intl_minutes='10.1', total_intl_calls='3', total_intl_charge='2.73', number_customer_service_calls='3', churn='no')]"
      ]
     },
     "metadata": {},
     "output_type": "display_data"
    }
   ],
   "source": [
    "# Checking train data\n",
    "display(df_train.head(5))"
   ]
  },
  {
   "cell_type": "code",
   "execution_count": 11,
   "metadata": {},
   "outputs": [
    {
     "name": "stdout",
     "output_type": "stream",
     "text": [
      "(3333, 21)\n",
      "(1667, 21)\n"
     ]
    }
   ],
   "source": [
    "# Ckecking size of datasets\n",
    "print((df_train.count(), len(df_train.columns)))\n",
    "print((df_test.count(), len(df_train.columns)))"
   ]
  },
  {
   "cell_type": "code",
   "execution_count": 24,
   "metadata": {},
   "outputs": [
    {
     "name": "stdout",
     "output_type": "stream",
     "text": [
      "+---+-----+--------------+---------+------------------+---------------+---------------------+-----------------+---------------+----------------+-----------------+---------------+----------------+-------------------+-----------------+------------------+------------------+----------------+-----------------+-----------------------------+-----+\n",
      "|_c0|state|account_length|area_code|international_plan|voice_mail_plan|number_vmail_messages|total_day_minutes|total_day_calls|total_day_charge|total_eve_minutes|total_eve_calls|total_eve_charge|total_night_minutes|total_night_calls|total_night_charge|total_intl_minutes|total_intl_calls|total_intl_charge|number_customer_service_calls|churn|\n",
      "+---+-----+--------------+---------+------------------+---------------+---------------------+-----------------+---------------+----------------+-----------------+---------------+----------------+-------------------+-----------------+------------------+------------------+----------------+-----------------+-----------------------------+-----+\n",
      "|  0|    0|             0|        0|                 0|              0|                    0|                0|              0|               0|                0|              0|               0|                  0|                0|                 0|                 0|               0|                0|                            0|    0|\n",
      "+---+-----+--------------+---------+------------------+---------------+---------------------+-----------------+---------------+----------------+-----------------+---------------+----------------+-------------------+-----------------+------------------+------------------+----------------+-----------------+-----------------------------+-----+\n",
      "\n",
      "+---+-----+--------------+---------+------------------+---------------+---------------------+-----------------+---------------+----------------+-----------------+---------------+----------------+-------------------+-----------------+------------------+------------------+----------------+-----------------+-----------------------------+-----+\n",
      "|_c0|state|account_length|area_code|international_plan|voice_mail_plan|number_vmail_messages|total_day_minutes|total_day_calls|total_day_charge|total_eve_minutes|total_eve_calls|total_eve_charge|total_night_minutes|total_night_calls|total_night_charge|total_intl_minutes|total_intl_calls|total_intl_charge|number_customer_service_calls|churn|\n",
      "+---+-----+--------------+---------+------------------+---------------+---------------------+-----------------+---------------+----------------+-----------------+---------------+----------------+-------------------+-----------------+------------------+------------------+----------------+-----------------+-----------------------------+-----+\n",
      "|  0|    0|             0|        0|                 0|              0|                    0|                0|              0|               0|                0|              0|               0|                  0|                0|                 0|                 0|               0|                0|                            0|    0|\n",
      "+---+-----+--------------+---------+------------------+---------------+---------------------+-----------------+---------------+----------------+-----------------+---------------+----------------+-------------------+-----------------+------------------+------------------+----------------+-----------------+-----------------------------+-----+\n",
      "\n"
     ]
    }
   ],
   "source": [
    "# Checking for missing values on train and test datasets\n",
    "df_train.select(*(sum(col(c).isNull().cast(\"int\")).alias(c) for c in df_train.columns)).show()\n",
    "df_test.select(*(sum(col(c).isNull().cast(\"int\")).alias(c) for c in df_train.columns)).show()"
   ]
  },
  {
   "cell_type": "code",
   "execution_count": 25,
   "metadata": {},
   "outputs": [
    {
     "data": {
      "text/plain": [
       "['_c0',\n",
       " 'state',\n",
       " 'account_length',\n",
       " 'area_code',\n",
       " 'international_plan',\n",
       " 'voice_mail_plan',\n",
       " 'number_vmail_messages',\n",
       " 'total_day_minutes',\n",
       " 'total_day_calls',\n",
       " 'total_day_charge',\n",
       " 'total_eve_minutes',\n",
       " 'total_eve_calls',\n",
       " 'total_eve_charge',\n",
       " 'total_night_minutes',\n",
       " 'total_night_calls',\n",
       " 'total_night_charge',\n",
       " 'total_intl_minutes',\n",
       " 'total_intl_calls',\n",
       " 'total_intl_charge',\n",
       " 'number_customer_service_calls',\n",
       " 'churn']"
      ]
     },
     "execution_count": 25,
     "metadata": {},
     "output_type": "execute_result"
    }
   ],
   "source": [
    "df_train.columns"
   ]
  },
  {
   "cell_type": "code",
   "execution_count": 114,
   "metadata": {},
   "outputs": [
    {
     "data": {
      "text/html": [
       "<div>\n",
       "<style scoped>\n",
       "    .dataframe tbody tr th:only-of-type {\n",
       "        vertical-align: middle;\n",
       "    }\n",
       "\n",
       "    .dataframe tbody tr th {\n",
       "        vertical-align: top;\n",
       "    }\n",
       "\n",
       "    .dataframe thead th {\n",
       "        text-align: right;\n",
       "    }\n",
       "</style>\n",
       "<table border=\"1\" class=\"dataframe\">\n",
       "  <thead>\n",
       "    <tr style=\"text-align: right;\">\n",
       "      <th></th>\n",
       "      <th>summary</th>\n",
       "      <th>account_length</th>\n",
       "      <th>number_vmail_messages</th>\n",
       "      <th>total_day_minutes</th>\n",
       "      <th>total_day_calls</th>\n",
       "      <th>total_day_charge</th>\n",
       "      <th>total_eve_minutes</th>\n",
       "      <th>total_eve_calls</th>\n",
       "      <th>total_eve_charge</th>\n",
       "      <th>total_night_minutes</th>\n",
       "      <th>total_night_calls</th>\n",
       "      <th>total_night_charge</th>\n",
       "      <th>total_intl_minutes</th>\n",
       "      <th>total_intl_calls</th>\n",
       "      <th>total_intl_charge</th>\n",
       "      <th>number_customer_service_calls</th>\n",
       "    </tr>\n",
       "  </thead>\n",
       "  <tbody>\n",
       "    <tr>\n",
       "      <th>0</th>\n",
       "      <td>count</td>\n",
       "      <td>3333.00</td>\n",
       "      <td>3333.00</td>\n",
       "      <td>3333.00</td>\n",
       "      <td>3333.00</td>\n",
       "      <td>3333.00</td>\n",
       "      <td>3333.00</td>\n",
       "      <td>3333.00</td>\n",
       "      <td>3333.00</td>\n",
       "      <td>3333.00</td>\n",
       "      <td>3333.00</td>\n",
       "      <td>3333.00</td>\n",
       "      <td>3333.00</td>\n",
       "      <td>3333.00</td>\n",
       "      <td>3333.00</td>\n",
       "      <td>3333.00</td>\n",
       "    </tr>\n",
       "    <tr>\n",
       "      <th>1</th>\n",
       "      <td>mean</td>\n",
       "      <td>101.06</td>\n",
       "      <td>8.10</td>\n",
       "      <td>179.78</td>\n",
       "      <td>100.44</td>\n",
       "      <td>30.56</td>\n",
       "      <td>200.98</td>\n",
       "      <td>100.11</td>\n",
       "      <td>17.08</td>\n",
       "      <td>200.87</td>\n",
       "      <td>100.11</td>\n",
       "      <td>9.04</td>\n",
       "      <td>10.24</td>\n",
       "      <td>4.48</td>\n",
       "      <td>2.76</td>\n",
       "      <td>1.56</td>\n",
       "    </tr>\n",
       "    <tr>\n",
       "      <th>2</th>\n",
       "      <td>stddev</td>\n",
       "      <td>39.82</td>\n",
       "      <td>13.69</td>\n",
       "      <td>54.47</td>\n",
       "      <td>20.07</td>\n",
       "      <td>9.26</td>\n",
       "      <td>50.71</td>\n",
       "      <td>19.92</td>\n",
       "      <td>4.31</td>\n",
       "      <td>50.57</td>\n",
       "      <td>19.57</td>\n",
       "      <td>2.28</td>\n",
       "      <td>2.79</td>\n",
       "      <td>2.46</td>\n",
       "      <td>0.75</td>\n",
       "      <td>1.32</td>\n",
       "    </tr>\n",
       "    <tr>\n",
       "      <th>3</th>\n",
       "      <td>min</td>\n",
       "      <td>1.00</td>\n",
       "      <td>0.00</td>\n",
       "      <td>0.00</td>\n",
       "      <td>0.00</td>\n",
       "      <td>0.00</td>\n",
       "      <td>0.00</td>\n",
       "      <td>0.00</td>\n",
       "      <td>0.00</td>\n",
       "      <td>100.30</td>\n",
       "      <td>100.00</td>\n",
       "      <td>1.04</td>\n",
       "      <td>0.00</td>\n",
       "      <td>0.00</td>\n",
       "      <td>0.00</td>\n",
       "      <td>0.00</td>\n",
       "    </tr>\n",
       "    <tr>\n",
       "      <th>4</th>\n",
       "      <td>max</td>\n",
       "      <td>99.00</td>\n",
       "      <td>9.00</td>\n",
       "      <td>99.90</td>\n",
       "      <td>99.00</td>\n",
       "      <td>9.93</td>\n",
       "      <td>99.50</td>\n",
       "      <td>99.00</td>\n",
       "      <td>9.95</td>\n",
       "      <td>99.30</td>\n",
       "      <td>99.00</td>\n",
       "      <td>9.99</td>\n",
       "      <td>9.90</td>\n",
       "      <td>9.00</td>\n",
       "      <td>5.40</td>\n",
       "      <td>9.00</td>\n",
       "    </tr>\n",
       "  </tbody>\n",
       "</table>\n",
       "</div>"
      ],
      "text/plain": [
       "  summary  account_length  number_vmail_messages  total_day_minutes  \\\n",
       "0   count         3333.00                3333.00            3333.00   \n",
       "1    mean          101.06                   8.10             179.78   \n",
       "2  stddev           39.82                  13.69              54.47   \n",
       "3     min            1.00                   0.00               0.00   \n",
       "4     max           99.00                   9.00              99.90   \n",
       "\n",
       "   total_day_calls  total_day_charge  total_eve_minutes  total_eve_calls  \\\n",
       "0          3333.00           3333.00            3333.00          3333.00   \n",
       "1           100.44             30.56             200.98           100.11   \n",
       "2            20.07              9.26              50.71            19.92   \n",
       "3             0.00              0.00               0.00             0.00   \n",
       "4            99.00              9.93              99.50            99.00   \n",
       "\n",
       "   total_eve_charge  total_night_minutes  total_night_calls  \\\n",
       "0           3333.00              3333.00            3333.00   \n",
       "1             17.08               200.87             100.11   \n",
       "2              4.31                50.57              19.57   \n",
       "3              0.00               100.30             100.00   \n",
       "4              9.95                99.30              99.00   \n",
       "\n",
       "   total_night_charge  total_intl_minutes  total_intl_calls  \\\n",
       "0             3333.00             3333.00           3333.00   \n",
       "1                9.04               10.24              4.48   \n",
       "2                2.28                2.79              2.46   \n",
       "3                1.04                0.00              0.00   \n",
       "4                9.99                9.90              9.00   \n",
       "\n",
       "   total_intl_charge  number_customer_service_calls  \n",
       "0            3333.00                        3333.00  \n",
       "1               2.76                           1.56  \n",
       "2               0.75                           1.32  \n",
       "3               0.00                           0.00  \n",
       "4               5.40                           9.00  "
      ]
     },
     "metadata": {},
     "output_type": "display_data"
    }
   ],
   "source": [
    "# Compute numerical data summary statistics\n",
    "df_train_num = df_train.select(['account_length', 'number_vmail_messages', 'total_day_minutes',\n",
    "                        'total_day_calls', 'total_day_charge', 'total_eve_minutes', \n",
    "                        'total_eve_calls', 'total_eve_charge', 'total_night_minutes', \n",
    "                        'total_night_calls', 'total_night_charge', 'total_intl_minutes', \n",
    "                        'total_intl_calls', 'total_intl_charge', 'number_customer_service_calls'])\n",
    "\n",
    "summary_df = df_train_num.describe().toPandas()\n",
    "\n",
    "s = ['account_length', 'number_vmail_messages', 'total_day_minutes',\n",
    "                        'total_day_calls', 'total_day_charge', 'total_eve_minutes', \n",
    "                        'total_eve_calls', 'total_eve_charge', 'total_night_minutes', \n",
    "                        'total_night_calls', 'total_night_charge', 'total_intl_minutes', \n",
    "                        'total_intl_calls', 'total_intl_charge', 'number_customer_service_calls']\n",
    "\n",
    "\n",
    "df = pd.DataFrame([pd.to_numeric(summary_df[col]) for col in s]).T.round(2)\n",
    "idx = 0\n",
    "df.insert(loc=idx, column='summary', value=summary_df.summary.values)\n",
    "\n",
    "display(df)"
   ]
  },
  {
   "cell_type": "code",
   "execution_count": 134,
   "metadata": {},
   "outputs": [
    {
     "ename": "AttributeError",
     "evalue": "'DataFrame' object has no attribute 'statFunc'",
     "output_type": "error",
     "traceback": [
      "\u001b[0;31m---------------------------------------------------------------------------\u001b[0m",
      "\u001b[0;31mAttributeError\u001b[0m                            Traceback (most recent call last)",
      "\u001b[0;32m<ipython-input-134-7a520ab2c2a5>\u001b[0m in \u001b[0;36m<module>\u001b[0;34m\u001b[0m\n\u001b[1;32m      1\u001b[0m \u001b[0;32mfrom\u001b[0m \u001b[0mpyspark\u001b[0m\u001b[0;34m.\u001b[0m\u001b[0msql\u001b[0m \u001b[0;32mimport\u001b[0m \u001b[0mDataFrameStatFunctions\u001b[0m \u001b[0;32mas\u001b[0m \u001b[0mstatFunc\u001b[0m\u001b[0;34m\u001b[0m\u001b[0;34m\u001b[0m\u001b[0m\n\u001b[0;32m----> 2\u001b[0;31m \u001b[0mdf_train_num\u001b[0m\u001b[0;34m.\u001b[0m\u001b[0mstatFunc\u001b[0m\u001b[0;34m.\u001b[0m\u001b[0mapproxQuantile\u001b[0m\u001b[0;34m(\u001b[0m\u001b[0;34m\"x\"\u001b[0m\u001b[0;34m,\u001b[0m \u001b[0mArray\u001b[0m\u001b[0;34m(\u001b[0m\u001b[0;36m0.5\u001b[0m\u001b[0;34m)\u001b[0m\u001b[0;34m,\u001b[0m \u001b[0;36m0.25\u001b[0m\u001b[0;34m)\u001b[0m\u001b[0;34m\u001b[0m\u001b[0;34m\u001b[0m\u001b[0m\n\u001b[0m\u001b[1;32m      3\u001b[0m \u001b[0;34m\u001b[0m\u001b[0m\n\u001b[1;32m      4\u001b[0m \u001b[0;31m# df_train_num.select('account_length').rdd.flatMap(lambda x: x).collect()\u001b[0m\u001b[0;34m\u001b[0m\u001b[0;34m\u001b[0m\u001b[0;34m\u001b[0m\u001b[0m\n",
      "\u001b[0;32m/opt/spark/python/pyspark/sql/dataframe.py\u001b[0m in \u001b[0;36m__getattr__\u001b[0;34m(self, name)\u001b[0m\n\u001b[1;32m   1299\u001b[0m         \u001b[0;32mif\u001b[0m \u001b[0mname\u001b[0m \u001b[0;32mnot\u001b[0m \u001b[0;32min\u001b[0m \u001b[0mself\u001b[0m\u001b[0;34m.\u001b[0m\u001b[0mcolumns\u001b[0m\u001b[0;34m:\u001b[0m\u001b[0;34m\u001b[0m\u001b[0;34m\u001b[0m\u001b[0m\n\u001b[1;32m   1300\u001b[0m             raise AttributeError(\n\u001b[0;32m-> 1301\u001b[0;31m                 \"'%s' object has no attribute '%s'\" % (self.__class__.__name__, name))\n\u001b[0m\u001b[1;32m   1302\u001b[0m         \u001b[0mjc\u001b[0m \u001b[0;34m=\u001b[0m \u001b[0mself\u001b[0m\u001b[0;34m.\u001b[0m\u001b[0m_jdf\u001b[0m\u001b[0;34m.\u001b[0m\u001b[0mapply\u001b[0m\u001b[0;34m(\u001b[0m\u001b[0mname\u001b[0m\u001b[0;34m)\u001b[0m\u001b[0;34m\u001b[0m\u001b[0;34m\u001b[0m\u001b[0m\n\u001b[1;32m   1303\u001b[0m         \u001b[0;32mreturn\u001b[0m \u001b[0mColumn\u001b[0m\u001b[0;34m(\u001b[0m\u001b[0mjc\u001b[0m\u001b[0;34m)\u001b[0m\u001b[0;34m\u001b[0m\u001b[0;34m\u001b[0m\u001b[0m\n",
      "\u001b[0;31mAttributeError\u001b[0m: 'DataFrame' object has no attribute 'statFunc'"
     ]
    }
   ],
   "source": [
    "from pyspark.sql import DataFrameStatFunctions as statFunc\n",
    "df_train_num.statFunc.approxQuantile(\"x\", Array(0.5), 0.25)\n",
    "\n",
    "# df_train_num.select('account_length').rdd.flatMap(lambda x: x).collect()"
   ]
  },
  {
   "cell_type": "code",
   "execution_count": 123,
   "metadata": {},
   "outputs": [
    {
     "name": "stdout",
     "output_type": "stream",
     "text": [
      "+--------------+---------------------+-----------------+---------------+----------------+-----------------+---------------+----------------+-------------------+-----------------+------------------+------------------+----------------+-----------------+-----------------------------+\n",
      "|account_length|number_vmail_messages|total_day_minutes|total_day_calls|total_day_charge|total_eve_minutes|total_eve_calls|total_eve_charge|total_night_minutes|total_night_calls|total_night_charge|total_intl_minutes|total_intl_calls|total_intl_charge|number_customer_service_calls|\n",
      "+--------------+---------------------+-----------------+---------------+----------------+-----------------+---------------+----------------+-------------------+-----------------+------------------+------------------+----------------+-----------------+-----------------------------+\n",
      "|           128|                   25|            265.1|            110|           45.07|            197.4|             99|           16.78|              244.7|               91|             11.01|                10|               3|              2.7|                            1|\n",
      "|           107|                   26|            161.6|            123|           27.47|            195.5|            103|           16.62|              254.4|              103|             11.45|              13.7|               3|              3.7|                            1|\n",
      "|           137|                    0|            243.4|            114|           41.38|            121.2|            110|            10.3|              162.6|              104|              7.32|              12.2|               5|             3.29|                            0|\n",
      "|            84|                    0|            299.4|             71|            50.9|             61.9|             88|            5.26|              196.9|               89|              8.86|               6.6|               7|             1.78|                            2|\n",
      "|            75|                    0|            166.7|            113|           28.34|            148.3|            122|           12.61|              186.9|              121|              8.41|              10.1|               3|             2.73|                            3|\n",
      "|           118|                    0|            223.4|             98|           37.98|            220.6|            101|           18.75|              203.9|              118|              9.18|               6.3|               6|              1.7|                            0|\n",
      "|           121|                   24|            218.2|             88|           37.09|            348.5|            108|           29.62|              212.6|              118|              9.57|               7.5|               7|             2.03|                            3|\n",
      "|           147|                    0|              157|             79|           26.69|            103.1|             94|            8.76|              211.8|               96|              9.53|               7.1|               6|             1.92|                            0|\n",
      "|           117|                    0|            184.5|             97|           31.37|            351.6|             80|           29.89|              215.8|               90|              9.71|               8.7|               4|             2.35|                            1|\n",
      "|           141|                   37|            258.6|             84|           43.96|              222|            111|           18.87|              326.4|               97|             14.69|              11.2|               5|             3.02|                            0|\n",
      "|            65|                    0|            129.1|            137|           21.95|            228.5|             83|           19.42|              208.8|              111|               9.4|              12.7|               6|             3.43|                            4|\n",
      "|            74|                    0|            187.7|            127|           31.91|            163.4|            148|           13.89|                196|               94|              8.82|               9.1|               5|             2.46|                            0|\n",
      "|           168|                    0|            128.8|             96|            21.9|            104.9|             71|            8.92|              141.1|              128|              6.35|              11.2|               2|             3.02|                            1|\n",
      "|            95|                    0|            156.6|             88|           26.62|            247.6|             75|           21.05|              192.3|              115|              8.65|              12.3|               5|             3.32|                            3|\n",
      "|            62|                    0|            120.7|             70|           20.52|            307.2|             76|           26.11|                203|               99|              9.14|              13.1|               6|             3.54|                            4|\n",
      "|           161|                    0|            332.9|             67|           56.59|            317.8|             97|           27.01|              160.6|              128|              7.23|               5.4|               9|             1.46|                            4|\n",
      "|            85|                   27|            196.4|            139|           33.39|            280.9|             90|           23.88|               89.3|               75|              4.02|              13.8|               4|             3.73|                            1|\n",
      "|            93|                    0|            190.7|            114|           32.42|            218.2|            111|           18.55|              129.6|              121|              5.83|               8.1|               3|             2.19|                            3|\n",
      "|            76|                   33|            189.7|             66|           32.25|            212.8|             65|           18.09|              165.7|              108|              7.46|                10|               5|              2.7|                            1|\n",
      "|            73|                    0|            224.4|             90|           38.15|            159.5|             88|           13.56|              192.8|               74|              8.68|                13|               2|             3.51|                            1|\n",
      "+--------------+---------------------+-----------------+---------------+----------------+-----------------+---------------+----------------+-------------------+-----------------+------------------+------------------+----------------+-----------------+-----------------------------+\n",
      "only showing top 20 rows\n",
      "\n"
     ]
    }
   ],
   "source": [
    "df_train_num.show()"
   ]
  },
  {
   "cell_type": "code",
   "execution_count": 102,
   "metadata": {},
   "outputs": [
    {
     "data": {
      "text/html": [
       "<div>\n",
       "<style scoped>\n",
       "    .dataframe tbody tr th:only-of-type {\n",
       "        vertical-align: middle;\n",
       "    }\n",
       "\n",
       "    .dataframe tbody tr th {\n",
       "        vertical-align: top;\n",
       "    }\n",
       "\n",
       "    .dataframe thead th {\n",
       "        text-align: right;\n",
       "    }\n",
       "</style>\n",
       "<table border=\"1\" class=\"dataframe\">\n",
       "  <thead>\n",
       "    <tr style=\"text-align: right;\">\n",
       "      <th></th>\n",
       "      <th>account_length</th>\n",
       "      <th>number_vmail_messages</th>\n",
       "      <th>total_day_minutes</th>\n",
       "      <th>total_day_calls</th>\n",
       "      <th>total_day_charge</th>\n",
       "      <th>total_eve_minutes</th>\n",
       "      <th>total_eve_calls</th>\n",
       "      <th>total_eve_charge</th>\n",
       "      <th>total_night_minutes</th>\n",
       "      <th>total_night_calls</th>\n",
       "      <th>total_night_charge</th>\n",
       "      <th>total_intl_minutes</th>\n",
       "      <th>total_intl_calls</th>\n",
       "      <th>total_intl_charge</th>\n",
       "      <th>number_customer_service_calls</th>\n",
       "    </tr>\n",
       "  </thead>\n",
       "  <tbody>\n",
       "    <tr>\n",
       "      <th>0</th>\n",
       "      <td>3333.00</td>\n",
       "      <td>3333.00</td>\n",
       "      <td>3333.00</td>\n",
       "      <td>3333.00</td>\n",
       "      <td>3333.00</td>\n",
       "      <td>3333.00</td>\n",
       "      <td>3333.00</td>\n",
       "      <td>3333.00</td>\n",
       "      <td>3333.00</td>\n",
       "      <td>3333.00</td>\n",
       "      <td>3333.00</td>\n",
       "      <td>3333.00</td>\n",
       "      <td>3333.00</td>\n",
       "      <td>3333.00</td>\n",
       "      <td>3333.00</td>\n",
       "    </tr>\n",
       "    <tr>\n",
       "      <th>1</th>\n",
       "      <td>101.06</td>\n",
       "      <td>8.10</td>\n",
       "      <td>179.78</td>\n",
       "      <td>100.44</td>\n",
       "      <td>30.56</td>\n",
       "      <td>200.98</td>\n",
       "      <td>100.11</td>\n",
       "      <td>17.08</td>\n",
       "      <td>200.87</td>\n",
       "      <td>100.11</td>\n",
       "      <td>9.04</td>\n",
       "      <td>10.24</td>\n",
       "      <td>4.48</td>\n",
       "      <td>2.76</td>\n",
       "      <td>1.56</td>\n",
       "    </tr>\n",
       "    <tr>\n",
       "      <th>2</th>\n",
       "      <td>39.82</td>\n",
       "      <td>13.69</td>\n",
       "      <td>54.47</td>\n",
       "      <td>20.07</td>\n",
       "      <td>9.26</td>\n",
       "      <td>50.71</td>\n",
       "      <td>19.92</td>\n",
       "      <td>4.31</td>\n",
       "      <td>50.57</td>\n",
       "      <td>19.57</td>\n",
       "      <td>2.28</td>\n",
       "      <td>2.79</td>\n",
       "      <td>2.46</td>\n",
       "      <td>0.75</td>\n",
       "      <td>1.32</td>\n",
       "    </tr>\n",
       "    <tr>\n",
       "      <th>3</th>\n",
       "      <td>1.00</td>\n",
       "      <td>0.00</td>\n",
       "      <td>0.00</td>\n",
       "      <td>0.00</td>\n",
       "      <td>0.00</td>\n",
       "      <td>0.00</td>\n",
       "      <td>0.00</td>\n",
       "      <td>0.00</td>\n",
       "      <td>100.30</td>\n",
       "      <td>100.00</td>\n",
       "      <td>1.04</td>\n",
       "      <td>0.00</td>\n",
       "      <td>0.00</td>\n",
       "      <td>0.00</td>\n",
       "      <td>0.00</td>\n",
       "    </tr>\n",
       "    <tr>\n",
       "      <th>4</th>\n",
       "      <td>99.00</td>\n",
       "      <td>9.00</td>\n",
       "      <td>99.90</td>\n",
       "      <td>99.00</td>\n",
       "      <td>9.93</td>\n",
       "      <td>99.50</td>\n",
       "      <td>99.00</td>\n",
       "      <td>9.95</td>\n",
       "      <td>99.30</td>\n",
       "      <td>99.00</td>\n",
       "      <td>9.99</td>\n",
       "      <td>9.90</td>\n",
       "      <td>9.00</td>\n",
       "      <td>5.40</td>\n",
       "      <td>9.00</td>\n",
       "    </tr>\n",
       "  </tbody>\n",
       "</table>\n",
       "</div>"
      ],
      "text/plain": [
       "   account_length  number_vmail_messages  total_day_minutes  total_day_calls  \\\n",
       "0         3333.00                3333.00            3333.00          3333.00   \n",
       "1          101.06                   8.10             179.78           100.44   \n",
       "2           39.82                  13.69              54.47            20.07   \n",
       "3            1.00                   0.00               0.00             0.00   \n",
       "4           99.00                   9.00              99.90            99.00   \n",
       "\n",
       "   total_day_charge  total_eve_minutes  total_eve_calls  total_eve_charge  \\\n",
       "0           3333.00            3333.00          3333.00           3333.00   \n",
       "1             30.56             200.98           100.11             17.08   \n",
       "2              9.26              50.71            19.92              4.31   \n",
       "3              0.00               0.00             0.00              0.00   \n",
       "4              9.93              99.50            99.00              9.95   \n",
       "\n",
       "   total_night_minutes  total_night_calls  total_night_charge  \\\n",
       "0              3333.00            3333.00             3333.00   \n",
       "1               200.87             100.11                9.04   \n",
       "2                50.57              19.57                2.28   \n",
       "3               100.30             100.00                1.04   \n",
       "4                99.30              99.00                9.99   \n",
       "\n",
       "   total_intl_minutes  total_intl_calls  total_intl_charge  \\\n",
       "0             3333.00           3333.00            3333.00   \n",
       "1               10.24              4.48               2.76   \n",
       "2                2.79              2.46               0.75   \n",
       "3                0.00              0.00               0.00   \n",
       "4                9.90              9.00               5.40   \n",
       "\n",
       "   number_customer_service_calls  \n",
       "0                        3333.00  \n",
       "1                           1.56  \n",
       "2                           1.32  \n",
       "3                           0.00  \n",
       "4                           9.00  "
      ]
     },
     "execution_count": 102,
     "metadata": {},
     "output_type": "execute_result"
    }
   ],
   "source": []
  },
  {
   "cell_type": "code",
   "execution_count": 113,
   "metadata": {},
   "outputs": [
    {
     "data": {
      "text/plain": [
       "DataFrame[_c0: string, state: string, account_length: string, area_code: string, international_plan: string, voice_mail_plan: string, number_vmail_messages: string, total_day_minutes: string, total_day_calls: string, total_day_charge: string, total_eve_minutes: string, total_eve_calls: string, total_eve_charge: string, total_night_minutes: string, total_night_calls: string, total_night_charge: string, total_intl_minutes: string, total_intl_calls: string, total_intl_charge: string, number_customer_service_calls: string, churn: string]"
      ]
     },
     "execution_count": 113,
     "metadata": {},
     "output_type": "execute_result"
    }
   ],
   "source": [
    "df_train"
   ]
  },
  {
   "cell_type": "code",
   "execution_count": null,
   "metadata": {},
   "outputs": [],
   "source": []
  }
 ],
 "metadata": {
  "kernelspec": {
   "display_name": "Python 3",
   "language": "python",
   "name": "python3"
  },
  "language_info": {
   "codemirror_mode": {
    "name": "ipython",
    "version": 3
   },
   "file_extension": ".py",
   "mimetype": "text/x-python",
   "name": "python",
   "nbconvert_exporter": "python",
   "pygments_lexer": "ipython3",
   "version": "3.7.3"
  }
 },
 "nbformat": 4,
 "nbformat_minor": 2
}
